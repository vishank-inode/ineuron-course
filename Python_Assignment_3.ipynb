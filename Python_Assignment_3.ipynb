{
  "nbformat": 4,
  "nbformat_minor": 0,
  "metadata": {
    "colab": {
      "name": "Python-Assignment-3.ipynb",
      "provenance": []
    },
    "kernelspec": {
      "name": "python3",
      "display_name": "Python 3"
    },
    "language_info": {
      "name": "python"
    }
  },
  "cells": [
    {
      "cell_type": "code",
      "metadata": {
        "colab": {
          "base_uri": "https://localhost:8080/"
        },
        "id": "u1X9eOt63us3",
        "outputId": "df0a9f31-4aaa-4e15-ab05-3e1f5355a4c5"
      },
      "source": [
        "# 1.1 create your own myreduce() function\n",
        "from functools import reduce\n",
        "\n",
        "def myreduce(func,seq):\n",
        "  var = None\n",
        "  for n in range(1,len(seq)):\n",
        "    if n == 1:\n",
        "      var = func(seq[n-1],seq[n])\n",
        "    else:\n",
        "      var = func(var,seq[n])\n",
        "  return vars\n",
        "\n",
        "l = [1,2,3,4,5]\n",
        "myreduce(lambda a, b: a if a > b else b,l)"
      ],
      "execution_count": 21,
      "outputs": [
        {
          "output_type": "execute_result",
          "data": {
            "text/plain": [
              "5"
            ]
          },
          "metadata": {},
          "execution_count": 21
        }
      ]
    },
    {
      "cell_type": "code",
      "metadata": {
        "colab": {
          "base_uri": "https://localhost:8080/"
        },
        "id": "1NDuBFP16Ml_",
        "outputId": "0902ad33-4775-4ec7-8d68-9479f1c7e6ee"
      },
      "source": [
        "# 1.2 create your own myfilter() function\n",
        "\n",
        "def myfilter(func,seq):\n",
        "  var = False\n",
        "  count = 0\n",
        "  final_vars = []\n",
        "  for item in seq:\n",
        "    var = func(item)\n",
        "    if var:\n",
        "      count += 1\n",
        "      final_vars.append(item)\n",
        "  if count == 0:\n",
        "    return seq\n",
        "  else:\n",
        "    return final_vars\n",
        "\n",
        "l = [1,2,3,4,5,'Vishank']\n",
        "list(myfilter(lambda a: a if type(a) == bool else False,l))"
      ],
      "execution_count": 31,
      "outputs": [
        {
          "output_type": "execute_result",
          "data": {
            "text/plain": [
              "[1, 2, 3, 4, 5, 'Vishank']"
            ]
          },
          "metadata": {},
          "execution_count": 31
        }
      ]
    },
    {
      "cell_type": "code",
      "metadata": {
        "colab": {
          "base_uri": "https://localhost:8080/"
        },
        "id": "3WbE6sUJAN81",
        "outputId": "3f1833db-9d31-4e38-deb1-22e2c2c13bc2"
      },
      "source": [
        "# 1.3 List comprehension tasks\n",
        "test_list = ['x','y','z']\n",
        "final_list = [n*num for n in test_list for num in range(1,5)]\n",
        "print(final_list)"
      ],
      "execution_count": 37,
      "outputs": [
        {
          "output_type": "stream",
          "name": "stdout",
          "text": [
            "['x', 'xx', 'xxx', 'xxxx', 'y', 'yy', 'yyy', 'yyyy', 'z', 'zz', 'zzz', 'zzzz']\n"
          ]
        }
      ]
    },
    {
      "cell_type": "code",
      "metadata": {
        "colab": {
          "base_uri": "https://localhost:8080/"
        },
        "id": "CjIC9N2PEatM",
        "outputId": "01f728c3-2c9b-4858-92c5-fe7fda655c95"
      },
      "source": [
        "test_list = ['x','y','z']\n",
        "final_list = [n*num for num in range(1,5) for n in test_list ]\n",
        "print(final_list)"
      ],
      "execution_count": 38,
      "outputs": [
        {
          "output_type": "stream",
          "name": "stdout",
          "text": [
            "['x', 'y', 'z', 'xx', 'yy', 'zz', 'xxx', 'yyy', 'zzz', 'xxxx', 'yyyy', 'zzzz']\n"
          ]
        }
      ]
    },
    {
      "cell_type": "code",
      "metadata": {
        "colab": {
          "base_uri": "https://localhost:8080/"
        },
        "id": "YAZWc50DGlOv",
        "outputId": "2eb24165-7c21-465e-eda4-6eddb0edcbe6"
      },
      "source": [
        "test_list = [2,3,4]\n",
        "final_list = [[num + addition] for num in test_list for addition in range(0,3)]\n",
        "print(final_list)"
      ],
      "execution_count": 40,
      "outputs": [
        {
          "output_type": "stream",
          "name": "stdout",
          "text": [
            "[[2], [3], [4], [3], [4], [5], [4], [5], [6]]\n"
          ]
        }
      ]
    },
    {
      "cell_type": "code",
      "metadata": {
        "colab": {
          "base_uri": "https://localhost:8080/"
        },
        "id": "2YklwhmLG09D",
        "outputId": "e736608b-6d29-451c-9b46-400062521cdb"
      },
      "source": [
        "test_list = [2,3,4,5]\n",
        "final_list = [[num + addition for addition in range(0,4)] for num in test_list]\n",
        "print(final_list)"
      ],
      "execution_count": 45,
      "outputs": [
        {
          "output_type": "stream",
          "name": "stdout",
          "text": [
            "[[2, 3, 4, 5], [3, 4, 5, 6], [4, 5, 6, 7], [5, 6, 7, 8]]\n"
          ]
        }
      ]
    },
    {
      "cell_type": "code",
      "metadata": {
        "colab": {
          "base_uri": "https://localhost:8080/"
        },
        "id": "hRuu2ecpI8zS",
        "outputId": "8e184c4f-901c-46d4-a865-d71b3ededc76"
      },
      "source": [
        "test_list = [1,2,3]\n",
        "final_list = [(n,i) for i in test_list for n in test_list]\n",
        "print(final_list)"
      ],
      "execution_count": 46,
      "outputs": [
        {
          "output_type": "stream",
          "name": "stdout",
          "text": [
            "[(1, 1), (2, 1), (3, 1), (1, 2), (2, 2), (3, 2), (1, 3), (2, 3), (3, 3)]\n"
          ]
        }
      ]
    }
  ]
}